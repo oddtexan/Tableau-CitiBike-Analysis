{
 "cells": [
  {
   "cell_type": "code",
   "execution_count": null,
   "metadata": {},
   "outputs": [],
   "source": [
    "# Import dependencies\n",
    "import pandas as pd\n",
    "import numpy as np"
   ]
  },
  {
   "cell_type": "code",
   "execution_count": null,
   "metadata": {},
   "outputs": [],
   "source": [
    "# Create file paths\n",
    "jan_file_path = 'Data/JC-202401-citibike-tripdata.csv'\n",
    "feb_file_path = 'Data/JC-202402-citibike-tripdata.csv'\n",
    "mar_file_path = 'Data/JC-202403-citibike-tripdata.csv'\n",
    "\n",
    "# Read in csv's into dataframes\n",
    "jan_df = pd.read_csv(jan_file_path)\n",
    "feb_df = pd.read_csv(feb_file_path)\n",
    "mar_df = pd.read_csv(mar_file_path)\n"
   ]
  },
  {
   "cell_type": "code",
   "execution_count": null,
   "metadata": {},
   "outputs": [],
   "source": [
    "# Merge all 3 Dataframes\n",
    "merged_df = pd.concat([jan_df, feb_df, mar_df])\n"
   ]
  },
  {
   "cell_type": "code",
   "execution_count": null,
   "metadata": {},
   "outputs": [],
   "source": [
    "# Get count\n",
    "merged_df.count()"
   ]
  },
  {
   "cell_type": "code",
   "execution_count": null,
   "metadata": {},
   "outputs": [],
   "source": [
    "# Drop null values\n",
    "merged_df = merged_df.dropna()\n",
    "\n",
    "# Check new count\n",
    "merged_df.count()"
   ]
  },
  {
   "cell_type": "code",
   "execution_count": null,
   "metadata": {},
   "outputs": [],
   "source": [
    "# Check value types\n",
    "merged_df.dtypes"
   ]
  },
  {
   "cell_type": "code",
   "execution_count": null,
   "metadata": {},
   "outputs": [],
   "source": [
    "# Split 'started_at' and 'ended_at' columns at date and time and add to dataframe\n",
    "merged_df[['started_date', 'started_time']] = merged_df['started_at'].str.split(' ', expand=True)\n",
    "merged_df[['ended_date', 'ended_time']] = merged_df['ended_at'].str.split(' ', expand=True)\n",
    "\n",
    "merged_df.head()"
   ]
  },
  {
   "cell_type": "code",
   "execution_count": null,
   "metadata": {},
   "outputs": [],
   "source": [
    "# Calculate trip duration by subtracting 'started_at' from 'ended_at'\n",
    "merged_df['started_at'] = pd.to_datetime(merged_df['started_at'])\n",
    "merged_df['ended_at'] = pd.to_datetime(merged_df['ended_at'])\n",
    "merged_df['trip_duration'] = merged_df['ended_at'] - merged_df['started_at']"
   ]
  },
  {
   "cell_type": "code",
   "execution_count": null,
   "metadata": {},
   "outputs": [],
   "source": [
    "# Write merged dataframe into csv file\n",
    "merged_df.to_csv('Data/1st_quarter_bike_data.csv', index=False)"
   ]
  },
  {
   "cell_type": "code",
   "execution_count": null,
   "metadata": {},
   "outputs": [],
   "source": []
  },
  {
   "cell_type": "code",
   "execution_count": null,
   "metadata": {},
   "outputs": [],
   "source": []
  },
  {
   "cell_type": "code",
   "execution_count": null,
   "metadata": {},
   "outputs": [],
   "source": []
  },
  {
   "cell_type": "code",
   "execution_count": null,
   "metadata": {},
   "outputs": [],
   "source": []
  }
 ],
 "metadata": {
  "language_info": {
   "name": "python"
  }
 },
 "nbformat": 4,
 "nbformat_minor": 2
}
